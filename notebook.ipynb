{
    "metadata": {
        "kernelspec": {
            "name": "python3",
            "display_name": "Python 3 (ipykernel)",
            "language": "python"
        },
        "language_info": {
            "name": "python",
            "version": "3.8.10",
            "mimetype": "text/x-python",
            "codemirror_mode": {
                "name": "ipython",
                "version": 3
            },
            "pygments_lexer": "ipython3",
            "nbconvert_exporter": "python",
            "file_extension": ".py"
        }
    },
    "nbformat_minor": 2,
    "nbformat": 4,
    "cells": [
        {
            "cell_type": "markdown",
            "source": [
                "# Assignment 3\n",
                "\n",
                "## Codding for Business Analytics\n",
                "\n",
                "### _Ayaz and Cathy Liu_"
            ],
            "metadata": {
                "azdata_cell_guid": "07b18ff3-2dc2-4d96-bc9a-3695bbe135e5"
            },
            "attachments": {}
        },
        {
            "cell_type": "markdown",
            "source": [
                "First of all we are loading the all necessary libraries like pandas and numpy and creating the variables (dataframe) from the files provided"
            ],
            "metadata": {
                "azdata_cell_guid": "d8c1bd78-1e60-48ad-be2b-503adc441851"
            },
            "attachments": {}
        },
        {
            "cell_type": "markdown",
            "source": [
                ""
            ],
            "metadata": {
                "azdata_cell_guid": "46756ea5-c045-40c1-bb5a-6c047f86ac7a"
            }
        },
        {
            "cell_type": "markdown",
            "source": [
                "## Uploading the libraries"
            ],
            "metadata": {
                "azdata_cell_guid": "ee6f6361-3666-48d0-8404-dd76f11467fa"
            },
            "attachments": {}
        },
        {
            "cell_type": "code",
            "source": [
                "import pandas as pd\n",
                "import numpy as np \n",
                ""
            ],
            "metadata": {
                "azdata_cell_guid": "99290e0a-f3e4-47f6-9ca3-d0bf41d96b49",
                "tags": []
            },
            "outputs": [],
            "execution_count": 1
        },
        {
            "cell_type": "markdown",
            "source": [
                "## Loading the data and showing the top rows of each table:"
            ],
            "metadata": {
                "azdata_cell_guid": "e9b9b9c0-3935-43cc-a68b-ddc5b25922d4"
            },
            "attachments": {}
        },
        {
            "cell_type": "code",
            "source": [
                "orders = pd.read_csv(\"orders.csv\")\r\n",
                "order_details = pd.read_csv(\"order_details.csv\")\r\n",
                "pc = pd.read_json(\"pc.json\")\r\n",
                "orders.head()"
            ],
            "metadata": {
                "azdata_cell_guid": "0a352993-3ab4-4d85-adb7-08aef8cd17bb"
            },
            "outputs": [
                {
                    "data": {
                        "text/plain": "   order_id     customer_name  freight                  ship_name  \\\n0     10248      Paul Henriot    32.38  Vins et alcools Chevalier   \n1     10249     Karin Josephs    11.61         Toms Spezialitäten   \n2     10250      Mario Pontes    65.83              Hanari Carnes   \n3     10251      Mary Saveley    41.34       Victuailles en stock   \n4     10252  Pascale Cartrain    51.30           Suprêmes délices   \n\n           ship_address       ship_city ship_region ship_postal_code  \\\n0    59 rue de l'Abbaye           Reims         NaN            51100   \n1         Luisenstr. 48         Münster         NaN            44087   \n2       Rua do Paço, 67  Rio de Janeiro          RJ        05454-876   \n3    2, rue du Commerce            Lyon         NaN            69004   \n4  Boulevard Tirou, 255       Charleroi         NaN           B-6000   \n\n  ship_country  \n0       France  \n1      Germany  \n2       Brazil  \n3       France  \n4      Belgium  ",
                        "text/html": "<div>\n<style scoped>\n    .dataframe tbody tr th:only-of-type {\n        vertical-align: middle;\n    }\n\n    .dataframe tbody tr th {\n        vertical-align: top;\n    }\n\n    .dataframe thead th {\n        text-align: right;\n    }\n</style>\n<table border=\"1\" class=\"dataframe\">\n  <thead>\n    <tr style=\"text-align: right;\">\n      <th></th>\n      <th>order_id</th>\n      <th>customer_name</th>\n      <th>freight</th>\n      <th>ship_name</th>\n      <th>ship_address</th>\n      <th>ship_city</th>\n      <th>ship_region</th>\n      <th>ship_postal_code</th>\n      <th>ship_country</th>\n    </tr>\n  </thead>\n  <tbody>\n    <tr>\n      <th>0</th>\n      <td>10248</td>\n      <td>Paul Henriot</td>\n      <td>32.38</td>\n      <td>Vins et alcools Chevalier</td>\n      <td>59 rue de l'Abbaye</td>\n      <td>Reims</td>\n      <td>NaN</td>\n      <td>51100</td>\n      <td>France</td>\n    </tr>\n    <tr>\n      <th>1</th>\n      <td>10249</td>\n      <td>Karin Josephs</td>\n      <td>11.61</td>\n      <td>Toms Spezialitäten</td>\n      <td>Luisenstr. 48</td>\n      <td>Münster</td>\n      <td>NaN</td>\n      <td>44087</td>\n      <td>Germany</td>\n    </tr>\n    <tr>\n      <th>2</th>\n      <td>10250</td>\n      <td>Mario Pontes</td>\n      <td>65.83</td>\n      <td>Hanari Carnes</td>\n      <td>Rua do Paço, 67</td>\n      <td>Rio de Janeiro</td>\n      <td>RJ</td>\n      <td>05454-876</td>\n      <td>Brazil</td>\n    </tr>\n    <tr>\n      <th>3</th>\n      <td>10251</td>\n      <td>Mary Saveley</td>\n      <td>41.34</td>\n      <td>Victuailles en stock</td>\n      <td>2, rue du Commerce</td>\n      <td>Lyon</td>\n      <td>NaN</td>\n      <td>69004</td>\n      <td>France</td>\n    </tr>\n    <tr>\n      <th>4</th>\n      <td>10252</td>\n      <td>Pascale Cartrain</td>\n      <td>51.30</td>\n      <td>Suprêmes délices</td>\n      <td>Boulevard Tirou, 255</td>\n      <td>Charleroi</td>\n      <td>NaN</td>\n      <td>B-6000</td>\n      <td>Belgium</td>\n    </tr>\n  </tbody>\n</table>\n</div>"
                    },
                    "metadata": {},
                    "execution_count": 2,
                    "output_type": "execute_result"
                }
            ],
            "execution_count": 2
        },
        {
            "cell_type": "code",
            "source": [
                "order_details.head()"
            ],
            "metadata": {
                "azdata_cell_guid": "ce111110-cb3d-414d-9e11-33b7d7fa5c23",
                "tags": []
            },
            "outputs": [
                {
                    "data": {
                        "text/plain": "   order_id                   product_name  product_category_id  unit_price  \\\n0     10248                 Queso Cabrales                    4        14.0   \n1     10248  Singaporean Hokkien Fried Mee                    5         9.8   \n2     10248         Mozzarella di Giovanni                    4        34.8   \n3     10249                           Tofu                    7        18.6   \n4     10249          Manjimup Dried Apples                    7        42.4   \n\n   quantity  \n0        12  \n1        10  \n2         5  \n3         9  \n4        40  ",
                        "text/html": "<div>\n<style scoped>\n    .dataframe tbody tr th:only-of-type {\n        vertical-align: middle;\n    }\n\n    .dataframe tbody tr th {\n        vertical-align: top;\n    }\n\n    .dataframe thead th {\n        text-align: right;\n    }\n</style>\n<table border=\"1\" class=\"dataframe\">\n  <thead>\n    <tr style=\"text-align: right;\">\n      <th></th>\n      <th>order_id</th>\n      <th>product_name</th>\n      <th>product_category_id</th>\n      <th>unit_price</th>\n      <th>quantity</th>\n    </tr>\n  </thead>\n  <tbody>\n    <tr>\n      <th>0</th>\n      <td>10248</td>\n      <td>Queso Cabrales</td>\n      <td>4</td>\n      <td>14.0</td>\n      <td>12</td>\n    </tr>\n    <tr>\n      <th>1</th>\n      <td>10248</td>\n      <td>Singaporean Hokkien Fried Mee</td>\n      <td>5</td>\n      <td>9.8</td>\n      <td>10</td>\n    </tr>\n    <tr>\n      <th>2</th>\n      <td>10248</td>\n      <td>Mozzarella di Giovanni</td>\n      <td>4</td>\n      <td>34.8</td>\n      <td>5</td>\n    </tr>\n    <tr>\n      <th>3</th>\n      <td>10249</td>\n      <td>Tofu</td>\n      <td>7</td>\n      <td>18.6</td>\n      <td>9</td>\n    </tr>\n    <tr>\n      <th>4</th>\n      <td>10249</td>\n      <td>Manjimup Dried Apples</td>\n      <td>7</td>\n      <td>42.4</td>\n      <td>40</td>\n    </tr>\n  </tbody>\n</table>\n</div>"
                    },
                    "metadata": {},
                    "execution_count": 4,
                    "output_type": "execute_result"
                }
            ],
            "execution_count": 4
        },
        {
            "cell_type": "code",
            "source": [
                "pc"
            ],
            "metadata": {
                "azdata_cell_guid": "519d64ce-33fe-41e1-aaa8-c249a22e5cbc"
            },
            "outputs": [
                {
                    "output_type": "execute_result",
                    "execution_count": 9,
                    "data": {
                        "text/plain": "   category_id   category_name  \\\n0            1       Beverages   \n1            2      Condiments   \n2            3     Confections   \n3            4  Dairy Products   \n4            5  Grains/Cereals   \n5            6    Meat/Poultry   \n6            7         Produce   \n7            8         Seafood   \n\n                                         description  \n0        Soft drinks, coffees, teas, beers, and ales  \n1  Sweet and savory sauces, relishes, spreads, an...  \n2                Desserts, candies, and sweet breads  \n3                                            Cheeses  \n4                Breads, crackers, pasta, and cereal  \n5                                     Prepared meats  \n6                          Dried fruit and bean curd  \n7                                   Seaweed and fish  ",
                        "text/html": "<div>\n<style scoped>\n    .dataframe tbody tr th:only-of-type {\n        vertical-align: middle;\n    }\n\n    .dataframe tbody tr th {\n        vertical-align: top;\n    }\n\n    .dataframe thead th {\n        text-align: right;\n    }\n</style>\n<table border=\"1\" class=\"dataframe\">\n  <thead>\n    <tr style=\"text-align: right;\">\n      <th></th>\n      <th>category_id</th>\n      <th>category_name</th>\n      <th>description</th>\n    </tr>\n  </thead>\n  <tbody>\n    <tr>\n      <th>0</th>\n      <td>1</td>\n      <td>Beverages</td>\n      <td>Soft drinks, coffees, teas, beers, and ales</td>\n    </tr>\n    <tr>\n      <th>1</th>\n      <td>2</td>\n      <td>Condiments</td>\n      <td>Sweet and savory sauces, relishes, spreads, an...</td>\n    </tr>\n    <tr>\n      <th>2</th>\n      <td>3</td>\n      <td>Confections</td>\n      <td>Desserts, candies, and sweet breads</td>\n    </tr>\n    <tr>\n      <th>3</th>\n      <td>4</td>\n      <td>Dairy Products</td>\n      <td>Cheeses</td>\n    </tr>\n    <tr>\n      <th>4</th>\n      <td>5</td>\n      <td>Grains/Cereals</td>\n      <td>Breads, crackers, pasta, and cereal</td>\n    </tr>\n    <tr>\n      <th>5</th>\n      <td>6</td>\n      <td>Meat/Poultry</td>\n      <td>Prepared meats</td>\n    </tr>\n    <tr>\n      <th>6</th>\n      <td>7</td>\n      <td>Produce</td>\n      <td>Dried fruit and bean curd</td>\n    </tr>\n    <tr>\n      <th>7</th>\n      <td>8</td>\n      <td>Seafood</td>\n      <td>Seaweed and fish</td>\n    </tr>\n  </tbody>\n</table>\n</div>"
                    },
                    "metadata": {}
                }
            ],
            "execution_count": 9
        },
        {
            "cell_type": "markdown",
            "source": [
                "## Question 1: \r\n",
                "Based on the freights spent on these orders, please estimate the budget of the freights in the next month for this business.Note that you can decide on how to estimate the budget, but the budget should not be lower than the calculated freight cost.\r\n",
                "\r\n",
                "## Explanation: \r\n",
                "Below piece of code shows the sum of freight spent in last month so the next month freight cost should be more than this "
            ],
            "metadata": {
                "azdata_cell_guid": "fb1d056b-9cdd-4ca9-a8bd-f7b18429f934"
            },
            "attachments": {}
        },
        {
            "cell_type": "code",
            "source": [
                "total_freight_cost = orders['freight'].sum()\r\n",
                "total_freight_cost"
            ],
            "metadata": {
                "azdata_cell_guid": "c98dfd85-c3f1-4048-ad4d-5d451a67e453",
                "tags": []
            },
            "outputs": [
                {
                    "data": {
                        "text/plain": "10363.8"
                    },
                    "metadata": {},
                    "execution_count": 5,
                    "output_type": "execute_result"
                }
            ],
            "execution_count": 5
        },
        {
            "cell_type": "markdown",
            "source": [
                "Since the business is expanding and other factors like fuel price, labour, inflation etc are also increasing we assume the next budget will rise upto 3%"
            ],
            "metadata": {
                "azdata_cell_guid": "9f3e45be-d9d5-4e11-83a5-b21d95c0e19b"
            },
            "attachments": {}
        },
        {
            "cell_type": "code",
            "source": [
                "estimated_freight_cost = total_freight_cost + (total_freight_cost * 0.03) # using 3% inflation rate\r\n",
                "estimated_freight_cost"
            ],
            "metadata": {
                "azdata_cell_guid": "f7b860eb-e201-4767-9d2d-01a35a58552d"
            },
            "outputs": [
                {
                    "data": {
                        "text/plain": "10674.714"
                    },
                    "metadata": {},
                    "execution_count": 6,
                    "output_type": "execute_result"
                }
            ],
            "execution_count": 6
        },
        {
            "cell_type": "markdown",
            "source": [
                "## Question 2:\n",
                "\n",
                "Try to find the countries with the most orders, which implies the strong markets that the business should focus on.\n",
                "\n",
                "## Explanation: \n",
                "\n",
                "Below piece of code shows the name of countries with max number of orders."
            ],
            "metadata": {
                "azdata_cell_guid": "6e6d0018-f62d-4239-b271-c5c32763556b"
            },
            "attachments": {}
        },
        {
            "cell_type": "code",
            "source": [
                "countries_most_order = orders['ship_country'].value_counts()\r\n",
                "countries_most_order"
            ],
            "metadata": {
                "azdata_cell_guid": "78a6fee1-f9e5-423a-840f-8f6847564da9"
            },
            "outputs": [
                {
                    "data": {
                        "text/plain": "Germany        24\nUSA            23\nFrance         15\nBrazil         13\nUK             11\nMexico          9\nVenezuela       8\nAustria         8\nSweden          6\nSpain           6\nIreland         5\nCanada          4\nPortugal        4\nFinland         4\nItaly           3\nSwitzerland     3\nDenmark         3\nBelgium         2\nPoland          1\nNorway          1\nName: ship_country, dtype: int64"
                    },
                    "metadata": {},
                    "execution_count": 7,
                    "output_type": "execute_result"
                }
            ],
            "execution_count": 7
        },
        {
            "cell_type": "markdown",
            "source": [
                "## Question 3:\r\n",
                "The business wants to reward customers who buy frequently by rewarding them with discount coupons\r\n",
                "Find 3 customers who have the highest number of orders in the dataset.\r\n",
                "## Explanation:\r\n",
                "Below the top 3 customers from the data set"
            ],
            "metadata": {
                "azdata_cell_guid": "13960af5-6eee-476f-b94a-78b57733e87f"
            },
            "attachments": {}
        },
        {
            "cell_type": "code",
            "source": [
                "top_3_customers = orders.groupby(\"customer_name\").count()[\"order_id\"].sort_values(ascending=False).head(3)\r\n",
                "top_3_customers"
            ],
            "metadata": {
                "azdata_cell_guid": "0b2e0186-979c-451c-8c48-1b629162ce0d"
            },
            "outputs": [
                {
                    "data": {
                        "text/plain": "customer_name\nPaula Wilson     6\nHorst Kloss      6\nRoland Mendel    6\nName: order_id, dtype: int64"
                    },
                    "metadata": {},
                    "execution_count": 8,
                    "output_type": "execute_result"
                }
            ],
            "execution_count": 8
        },
        {
            "cell_type": "markdown",
            "source": [
                "Another easier way of doing this is:"
            ],
            "metadata": {
                "azdata_cell_guid": "64cdfd8a-e8d2-4a03-81e0-6568ea25a990"
            },
            "attachments": {}
        },
        {
            "cell_type": "code",
            "source": [
                "top_3_customers_2 = orders['customer_name'].value_counts().head(3)\r\n",
                "top_3_customers_2"
            ],
            "metadata": {
                "azdata_cell_guid": "aa6a5e1b-f4ba-469e-9d4a-0618b209566f"
            },
            "outputs": [
                {
                    "output_type": "execute_result",
                    "execution_count": 8,
                    "data": {
                        "text/plain": "Roland Mendel    6\nHorst Kloss      6\nPaula Wilson     6\nName: customer_name, dtype: int64"
                    },
                    "metadata": {}
                }
            ],
            "execution_count": 8
        },
        {
            "cell_type": "markdown",
            "source": [
                "## Question 4:\n",
                "Which product category has the highest sales revenue? These products are popular and there may be implications for business operations. _\\*(Note: The total sales of a product is the sum of the values of_ <span style=\"color: #800000;font-style: italic;\">``unit&nbsp;price&nbsp;*&nbsp;quantity``</span> _in all relevant orders. The sales of a product category are the sum of the total sales of the products in the category.)\\*_"
            ],
            "metadata": {
                "azdata_cell_guid": "77705012-b39f-4461-a327-0535e09bf69b"
            },
            "attachments": {}
        },
        {
            "cell_type": "markdown",
            "source": [
                "### Step 1:\r\n",
                "First we created the sales column in the order\\_details dataframe as shown below"
            ],
            "metadata": {
                "azdata_cell_guid": "e8ff4508-d58f-4a6a-92ed-d879c869081c"
            },
            "attachments": {}
        },
        {
            "cell_type": "code",
            "source": [
                "order_details['sales'] = order_details['unit_price'] * order_details['quantity']\r\n",
                "order_details.head()"
            ],
            "metadata": {
                "azdata_cell_guid": "e1e92354-b084-4657-b809-178b9af27e24"
            },
            "outputs": [
                {
                    "data": {
                        "text/plain": "   order_id                   product_name  product_category_id  unit_price  \\\n0     10248                 Queso Cabrales                    4        14.0   \n1     10248  Singaporean Hokkien Fried Mee                    5         9.8   \n2     10248         Mozzarella di Giovanni                    4        34.8   \n3     10249                           Tofu                    7        18.6   \n4     10249          Manjimup Dried Apples                    7        42.4   \n\n   quantity   sales  \n0        12   168.0  \n1        10    98.0  \n2         5   174.0  \n3         9   167.4  \n4        40  1696.0  ",
                        "text/html": "<div>\n<style scoped>\n    .dataframe tbody tr th:only-of-type {\n        vertical-align: middle;\n    }\n\n    .dataframe tbody tr th {\n        vertical-align: top;\n    }\n\n    .dataframe thead th {\n        text-align: right;\n    }\n</style>\n<table border=\"1\" class=\"dataframe\">\n  <thead>\n    <tr style=\"text-align: right;\">\n      <th></th>\n      <th>order_id</th>\n      <th>product_name</th>\n      <th>product_category_id</th>\n      <th>unit_price</th>\n      <th>quantity</th>\n      <th>sales</th>\n    </tr>\n  </thead>\n  <tbody>\n    <tr>\n      <th>0</th>\n      <td>10248</td>\n      <td>Queso Cabrales</td>\n      <td>4</td>\n      <td>14.0</td>\n      <td>12</td>\n      <td>168.0</td>\n    </tr>\n    <tr>\n      <th>1</th>\n      <td>10248</td>\n      <td>Singaporean Hokkien Fried Mee</td>\n      <td>5</td>\n      <td>9.8</td>\n      <td>10</td>\n      <td>98.0</td>\n    </tr>\n    <tr>\n      <th>2</th>\n      <td>10248</td>\n      <td>Mozzarella di Giovanni</td>\n      <td>4</td>\n      <td>34.8</td>\n      <td>5</td>\n      <td>174.0</td>\n    </tr>\n    <tr>\n      <th>3</th>\n      <td>10249</td>\n      <td>Tofu</td>\n      <td>7</td>\n      <td>18.6</td>\n      <td>9</td>\n      <td>167.4</td>\n    </tr>\n    <tr>\n      <th>4</th>\n      <td>10249</td>\n      <td>Manjimup Dried Apples</td>\n      <td>7</td>\n      <td>42.4</td>\n      <td>40</td>\n      <td>1696.0</td>\n    </tr>\n  </tbody>\n</table>\n</div>"
                    },
                    "metadata": {},
                    "execution_count": 9,
                    "output_type": "execute_result"
                }
            ],
            "execution_count": 9
        },
        {
            "cell_type": "markdown",
            "source": [
                "### Step 2:\r\n",
                "Now we will merge the order_details dataframe and pc dataframe to compare the sales revenue of each categories "
            ],
            "metadata": {
                "azdata_cell_guid": "9b508741-fe50-4d42-8518-5250bc3c87dd"
            },
            "attachments": {}
        },
        {
            "cell_type": "code",
            "source": [
                "# renaming the column name\r\n",
                "order_details = order_details.rename(columns={\"product_category_id\":\"category_id\"})\r\n",
                "combine_df = pd.merge(order_details, pc, how=\"inner\", on='category_id')\r\n",
                "combine_df.groupby('category_name').sum()['sales'].sort_values(ascending=False)\r\n",
                ""
            ],
            "metadata": {
                "azdata_cell_guid": "cb7c9e84-f703-446e-bece-b5df369d9d97"
            },
            "outputs": [
                {
                    "output_type": "execute_result",
                    "execution_count": 20,
                    "data": {
                        "text/plain": "category_name\nBeverages         54383.2\nDairy Products    44615.8\nMeat/Poultry      32371.2\nConfections       31991.6\nSeafood           21589.6\nCondiments        19458.3\nProduce           15134.2\nGrains/Cereals     9817.6\nName: sales, dtype: float64"
                    },
                    "metadata": {}
                }
            ],
            "execution_count": 20
        }
    ]
}